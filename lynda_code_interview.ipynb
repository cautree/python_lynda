{
 "metadata": {
  "name": ""
 },
 "nbformat": 3,
 "nbformat_minor": 0,
 "worksheets": [
  {
   "cells": [
    {
     "cell_type": "code",
     "collapsed": false,
     "input": [
      "#find second largest\n",
      "a = [3,4,5,6,7]\n",
      "def second_larget(a):\n",
      "    maxi = max(a)\n",
      "    maxi2 =0 \n",
      "    \n",
      "    for i in a:\n",
      "        if i>maxi2 and i<maxi:\n",
      "            maxi2=i\n",
      "            \n",
      "    return maxi2\n",
      "\n",
      "second_larget(a)"
     ],
     "language": "python",
     "metadata": {},
     "outputs": [
      {
       "metadata": {},
       "output_type": "pyout",
       "prompt_number": 13,
       "text": [
        "6"
       ]
      }
     ],
     "prompt_number": 13
    },
    {
     "cell_type": "code",
     "collapsed": false,
     "input": [
      "#two string if they are reverse of each other\n",
      "def reverse_or_not(a,b):\n",
      "    a=a[::-1]\n",
      "    if a==b:\n",
      "        return True\n",
      "    else:\n",
      "        return False\n",
      "    \n",
      "print reverse_or_not(\"ABC\",\"CBA\")"
     ],
     "language": "python",
     "metadata": {},
     "outputs": [
      {
       "output_type": "stream",
       "stream": "stdout",
       "text": [
        "True\n"
       ]
      }
     ],
     "prompt_number": 14
    },
    {
     "cell_type": "code",
     "collapsed": false,
     "input": [
      "# compare two number in string\n",
      "def larger_than (a, b):\n",
      "    a=int(a)\n",
      "    b=int(b)\n",
      "    if a>b:\n",
      "        return True\n",
      "    else:\n",
      "        return False\n",
      "\n",
      "larger_than(\"123\",\"12\")"
     ],
     "language": "python",
     "metadata": {},
     "outputs": [
      {
       "metadata": {},
       "output_type": "pyout",
       "prompt_number": 15,
       "text": [
        "True"
       ]
      }
     ],
     "prompt_number": 15
    },
    {
     "cell_type": "code",
     "collapsed": false,
     "input": [
      "#compare two number in string without convert to int\n",
      "def larger_than (a, b):\n",
      "    la=len(a)\n",
      "    lb=len(b)\n",
      "    if la>lb:\n",
      "        return True\n",
      "    else:\n",
      "        return False\n",
      "    \n",
      "    for i in range(len(a)):\n",
      "        if a[i]>b[i]:\n",
      "            return True\n",
      "            \n",
      "    return False\n",
      "\n",
      "larger_than(\"12\",\"11\")\n"
     ],
     "language": "python",
     "metadata": {},
     "outputs": [
      {
       "metadata": {},
       "output_type": "pyout",
       "prompt_number": 16,
       "text": [
        "False"
       ]
      }
     ],
     "prompt_number": 16
    },
    {
     "cell_type": "code",
     "collapsed": false,
     "input": [
      "### two dimentional array\n",
      "a =[[1,2,3,4],[5,6,7,8]]\n",
      "a[0]\n",
      "a[1]\n",
      "\n",
      "for row in a:\n",
      "    for item in row:\n",
      "        print item"
     ],
     "language": "python",
     "metadata": {},
     "outputs": [
      {
       "output_type": "stream",
       "stream": "stdout",
       "text": [
        "1\n",
        "2\n",
        "3\n",
        "4\n",
        "5\n",
        "6\n",
        "7\n",
        "8\n"
       ]
      }
     ],
     "prompt_number": 17
    },
    {
     "cell_type": "code",
     "collapsed": false,
     "input": [
      "for i in range(len(a)):\n",
      "    for j in range(len(a[i])):\n",
      "        print a[i][j]"
     ],
     "language": "python",
     "metadata": {},
     "outputs": [
      {
       "output_type": "stream",
       "stream": "stdout",
       "text": [
        "1\n",
        "2\n",
        "3\n",
        "4\n",
        "5\n",
        "6\n",
        "7\n",
        "8\n"
       ]
      }
     ],
     "prompt_number": 18
    },
    {
     "cell_type": "code",
     "collapsed": false,
     "input": [
      "# can rooks attack one another\n",
      "chess =[[1,0,0,],[0,1,0,0],[0,0,0,1],[0,0,0,0]]\n",
      "\n",
      "def attack_or_not(chess):\n",
      "    n = len(chessboard)\n",
      "    \n",
      "    for row_i in range(n):\n",
      "        row_count=0\n",
      "        for col_i in range(n):\n",
      "            row_count +=chessboard[row_i][col_i]\n",
      "        if row_count>1:\n",
      "            return False\n",
      "    \n",
      "    for col_i in range(n):\n",
      "        col_count =0\n",
      "        for row_i in range(n):\n",
      "            col_count += chessboard[row_i][col_i]\n",
      "        if col_count>1:\n",
      "            return False\n",
      "    \n",
      "    return True\n",
      "    \n",
      "    "
     ],
     "language": "python",
     "metadata": {},
     "outputs": [],
     "prompt_number": 19
    },
    {
     "cell_type": "code",
     "collapsed": false,
     "input": [
      "#####return number of negative in a square shaped array\n",
      "def count_neg (arr):\n",
      "    count=0\n",
      "    for row in arr:\n",
      "        for item in row:\n",
      "            if item<0:\n",
      "                count = count+1\n",
      "            if item>=0:\n",
      "                break\n",
      "                \n",
      "    return count\n",
      "\n",
      "arr=[[-4,-3,-1,1],[-2,-2,1,2],[-1,1,2,3],[1,2,4,5]]\n",
      "\n",
      "count_neg(arr)"
     ],
     "language": "python",
     "metadata": {},
     "outputs": [
      {
       "metadata": {},
       "output_type": "pyout",
       "prompt_number": 20,
       "text": [
        "6"
       ]
      }
     ],
     "prompt_number": 20
    },
    {
     "cell_type": "code",
     "collapsed": false,
     "input": [
      "# o(n) solution\n",
      "def count_negatives(given_array):\n",
      "    count=0\n",
      "    row_i=0\n",
      "    col_i = len(given_array[0])-1\n",
      "    while col_i >=0 and row_i<len(given_array):\n",
      "        if given_array[row_i][col_i]<0:\n",
      "            count+=(col_i+1)\n",
      "            row_i+=1\n",
      "        else:\n",
      "            col_i -=1\n",
      "    return count\n",
      "count_negatives(arr)"
     ],
     "language": "python",
     "metadata": {},
     "outputs": [
      {
       "metadata": {},
       "output_type": "pyout",
       "prompt_number": 23,
       "text": [
        "6"
       ]
      }
     ],
     "prompt_number": 23
    },
    {
     "cell_type": "code",
     "collapsed": false,
     "input": [
      "def appear_twice(li):\n",
      "    dic={}\n",
      "    for name in li:\n",
      "        if name not in dic:\n",
      "            dic[name]=1\n",
      "        else:\n",
      "            dic[name]=dic[name]+1\n",
      "    name_list=[]\n",
      "    for key,value in dic.items():\n",
      "        if value==2:\n",
      "            name_list.append(key)\n",
      "    return name_list\n",
      "\n",
      "\n",
      "li=[\"Justin\",\"Justin\",\"Lucas\",\"doudou\", \"miaomiao\"]\n",
      "appear_twice(li)"
     ],
     "language": "python",
     "metadata": {},
     "outputs": [
      {
       "metadata": {},
       "output_type": "pyout",
       "prompt_number": 32,
       "text": [
        "['Justin']"
       ]
      }
     ],
     "prompt_number": 32
    },
    {
     "cell_type": "code",
     "collapsed": false,
     "input": [
      "#O(n) solve the problem of: given a list, found the two numbers which add up to 10\n",
      "def add_10 (ls):\n",
      "    dic={}\n",
      "    \n",
      "    for num in ls:\n",
      "        dic[num]=1\n",
      "        if 10-num in dic:\n",
      "            return (num, 10-num)\n",
      "        \n",
      "        \n",
      "ls=[1,2,3,4,9]\n",
      "add_10(ls)"
     ],
     "language": "python",
     "metadata": {},
     "outputs": [
      {
       "metadata": {},
       "output_type": "pyout",
       "prompt_number": 34,
       "text": [
        "(9, 1)"
       ]
      }
     ],
     "prompt_number": 34
    }
   ],
   "metadata": {}
  }
 ]
}