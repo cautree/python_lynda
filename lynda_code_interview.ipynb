{
 "metadata": {
  "name": ""
 },
 "nbformat": 3,
 "nbformat_minor": 0,
 "worksheets": [
  {
   "cells": [
    {
     "cell_type": "code",
     "collapsed": false,
     "input": [
      "#find second largest\n",
      "a = [3,4,5,6,7]\n",
      "def second_larget(a):\n",
      "    maxi = max(a)\n",
      "    maxi2 =0 \n",
      "    \n",
      "    for i in a:\n",
      "        if i>maxi2 and i<maxi:\n",
      "            maxi2=i\n",
      "            \n",
      "    return maxi2\n",
      "\n",
      "second_larget(a)"
     ],
     "language": "python",
     "metadata": {},
     "outputs": [
      {
       "metadata": {},
       "output_type": "pyout",
       "prompt_number": 6,
       "text": [
        "6"
       ]
      }
     ],
     "prompt_number": 6
    },
    {
     "cell_type": "code",
     "collapsed": false,
     "input": [
      "#two string if they are reverse of each other\n",
      "def reverse_or_not(a,b):\n",
      "    a=a[::-1]\n",
      "    if a==b:\n",
      "        return True\n",
      "    else:\n",
      "        return False\n",
      "    \n",
      "print reverse_or_not(\"ABC\",\"CBA\")"
     ],
     "language": "python",
     "metadata": {},
     "outputs": [
      {
       "output_type": "stream",
       "stream": "stdout",
       "text": [
        "True\n"
       ]
      }
     ],
     "prompt_number": 7
    },
    {
     "cell_type": "code",
     "collapsed": false,
     "input": [
      "# compare two number in string\n",
      "def larger_than (a, b):\n",
      "    a=int(a)\n",
      "    b=int(b)\n",
      "    if a>b:\n",
      "        return True\n",
      "    else:\n",
      "        return False\n",
      "\n",
      "larger_than(\"123\",\"12\")"
     ],
     "language": "python",
     "metadata": {},
     "outputs": [
      {
       "metadata": {},
       "output_type": "pyout",
       "prompt_number": 8,
       "text": [
        "True"
       ]
      }
     ],
     "prompt_number": 8
    },
    {
     "cell_type": "code",
     "collapsed": false,
     "input": [
      "#compare two number in string without convert to int\n",
      "def larger_than (a, b):\n",
      "    la=len(a)\n",
      "    lb=len(b)\n",
      "    if la>lb:\n",
      "        return True\n",
      "    else:\n",
      "        return False\n",
      "    \n",
      "    for i in range(len(a)):\n",
      "        if a[i]>b[i]:\n",
      "            return True\n",
      "            \n",
      "    return False\n",
      "\n",
      "larger_than(\"12\",\"11\")\n"
     ],
     "language": "python",
     "metadata": {},
     "outputs": [
      {
       "metadata": {},
       "output_type": "pyout",
       "prompt_number": 9,
       "text": [
        "False"
       ]
      }
     ],
     "prompt_number": 9
    },
    {
     "cell_type": "code",
     "collapsed": false,
     "input": [
      "### two dimentional array\n",
      "a =[[1,2,3,4],[5,6,7,8]]\n",
      "a[0]\n",
      "a[1]\n",
      "\n",
      "for row in a:\n",
      "    for item in row:\n",
      "        print item"
     ],
     "language": "python",
     "metadata": {},
     "outputs": [
      {
       "output_type": "stream",
       "stream": "stdout",
       "text": [
        "1\n",
        "2\n",
        "3\n",
        "4\n",
        "5\n",
        "6\n",
        "7\n",
        "8\n"
       ]
      }
     ],
     "prompt_number": 10
    },
    {
     "cell_type": "code",
     "collapsed": false,
     "input": [
      "for i in range(len(a)):\n",
      "    for j in range(len(a[i])):\n",
      "        print a[i][j]"
     ],
     "language": "python",
     "metadata": {},
     "outputs": [
      {
       "output_type": "stream",
       "stream": "stdout",
       "text": [
        "1\n",
        "2\n",
        "3\n",
        "4\n",
        "5\n",
        "6\n",
        "7\n",
        "8\n"
       ]
      }
     ],
     "prompt_number": 11
    },
    {
     "cell_type": "code",
     "collapsed": false,
     "input": [
      "# can rooks attack one another\n",
      "chess =[[1,0,0,],[0,1,0,0],[0,0,0,1],[0,0,0,0]]\n",
      "\n",
      "def attack_or_not(chess):\n",
      "    n = len(chessboard)\n",
      "    \n",
      "    for row_i in range(n):\n",
      "        row_count=0\n",
      "        for col_i in range(n):\n",
      "            row_count +=chessboard[row_i][col_i]\n",
      "        if row_count>1:\n",
      "            return False\n",
      "    \n",
      "    for col_i in range(n):\n",
      "        col_count =0\n",
      "        for row_i in range(n):\n",
      "            col_count += chessboard[row_i][col_i]\n",
      "        if col_count>1:\n",
      "            return False\n",
      "    \n",
      "    return True\n",
      "    \n",
      "    "
     ],
     "language": "python",
     "metadata": {},
     "outputs": [],
     "prompt_number": 12
    }
   ],
   "metadata": {}
  }
 ]
}